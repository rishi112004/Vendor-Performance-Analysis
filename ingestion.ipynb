{
 "cells": [
  {
   "cell_type": "code",
   "execution_count": 9,
   "id": "d943c236-9608-4997-af2d-84d1af22c3c2",
   "metadata": {},
   "outputs": [],
   "source": [
    "import pandas as pd\n",
    "import os\n",
    "from sqlalchemy import create_engine\n",
    "import logging\n",
    "import time\n",
    "\n",
    "logging.basicConfig(\n",
    "    filename=\"logs/ingestion_db.log\",\n",
    "    level=logging.DEBUG,\n",
    "    format=\"%(asctime)s-%(levelname)s-%(message)s\",\n",
    "    filemode=\"a\"\n",
    ")\n",
    "engine= create_engine('sqlite:///mydatabase.db')\n",
    "\n",
    "\n",
    "def ingest_db(df, table_name, engine):\n",
    "    '''this function will ingest the dataframe into database table'''\n",
    "    df.to_sql(table_name, con = engine, if_exists='replace',index= False)\n",
    "\n",
    "def load_raw_data():\n",
    "    \n",
    "    '''this function will load the CSVs as dataframes and ingest into db'''\n",
    "    start = time.time()\n",
    "    for file in os.listdir('data'):\n",
    "        if'.csv' in file:\n",
    "            df = pd.read_csv('data/'+file)\n",
    "            logging.info(f'Ingesting{file}in db')\n",
    "            ingest_db(df, file[:-4],engine)\n",
    "    end=time.time()\n",
    "    Total_time = (end - start)/60\n",
    "    logging.info('---------Ingestion Complete---------')\n",
    "    logging.info(f'\\nTotal_time:{toal_time}minutes')\n",
    "    \n",
    "if __name__=='__main__':\n",
    "    load_raw_data()\n",
    "    "
   ]
  },
  {
   "cell_type": "code",
   "execution_count": null,
   "id": "b6b1da84-8442-4c7b-a6f1-8b9b05580e8d",
   "metadata": {},
   "outputs": [],
   "source": []
  },
  {
   "cell_type": "code",
   "execution_count": null,
   "id": "6fd7e939-b414-4c8f-b3c6-b37439aebc3a",
   "metadata": {},
   "outputs": [],
   "source": []
  },
  {
   "cell_type": "code",
   "execution_count": null,
   "id": "143a50c8-1dd0-4eb3-ad2b-219be214e381",
   "metadata": {},
   "outputs": [],
   "source": []
  },
  {
   "cell_type": "code",
   "execution_count": null,
   "id": "f070ade0-eff4-43da-9045-6fb49484049a",
   "metadata": {},
   "outputs": [],
   "source": []
  },
  {
   "cell_type": "code",
   "execution_count": null,
   "id": "6d68c0da-cb3d-471c-8d46-5da9f1d09f86",
   "metadata": {},
   "outputs": [],
   "source": []
  },
  {
   "cell_type": "code",
   "execution_count": null,
   "id": "88304980-0dd8-4e4b-8ebf-81fc93df2e2f",
   "metadata": {},
   "outputs": [],
   "source": []
  },
  {
   "cell_type": "code",
   "execution_count": null,
   "id": "cff02fd9-b2a0-4ad3-a36d-22d79f958fd6",
   "metadata": {},
   "outputs": [],
   "source": []
  },
  {
   "cell_type": "code",
   "execution_count": null,
   "id": "0f1abee2-37e5-4dbd-8cd7-de4a95addf55",
   "metadata": {},
   "outputs": [],
   "source": []
  },
  {
   "cell_type": "code",
   "execution_count": null,
   "id": "9e98f5b0-2e75-4e24-a86b-1fcf07a3f775",
   "metadata": {},
   "outputs": [],
   "source": []
  },
  {
   "cell_type": "code",
   "execution_count": null,
   "id": "77fe904d-257a-4b0b-9229-297d8da2db1a",
   "metadata": {},
   "outputs": [],
   "source": []
  }
 ],
 "metadata": {
  "kernelspec": {
   "display_name": "Python 3 (ipykernel)",
   "language": "python",
   "name": "python3"
  },
  "language_info": {
   "codemirror_mode": {
    "name": "ipython",
    "version": 3
   },
   "file_extension": ".py",
   "mimetype": "text/x-python",
   "name": "python",
   "nbconvert_exporter": "python",
   "pygments_lexer": "ipython3",
   "version": "3.12.4"
  }
 },
 "nbformat": 4,
 "nbformat_minor": 5
}
